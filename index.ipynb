{
 "cells": [
  {
   "cell_type": "markdown",
   "id": "e468a3d2",
   "metadata": {},
   "source": [
    "# How Resilience Relates to Life Satisfaction during COVID‑19\n",
    "\n",
    "*EECS 398 Final Project Showcase*"
   ]
  },
  {
   "cell_type": "markdown",
   "id": "6365f1d6",
   "metadata": {},
   "source": [
    "\n",
    "### 1 — Why this project?\n",
    "\n",
    "In April 2020—right after colleges closed for COVID‑19—**763** U.S. students answered a short anonymous survey about how they were feeling. Many of us were left terribly affected by this otherwise unnecessarily-inflicted pandemic.\n",
    "\n",
    "The seven survey questions I use are simple 1‑to‑5 ratings:\n",
    "\n",
    "| Question column | What it asks (1 = low, 5 = high) |\n",
    "|---|---|\n",
    "| **life_sat** | \"How satisfied are you with your life right now?\" |\n",
    "| **resilient** | \"I bounce back quickly after hard times.\" |\n",
    "| **resilient_covid** | \"I can cope with stress caused by COVID‑19.\" |\n",
    "| **energy** | \"I feel energetic today.\" |\n",
    "| **happiness** | \"I feel happy today.\" |\n",
    "| **hopeful** | \"I feel hopeful today.\" |\n",
    "| **self_esteem** | \"I feel good about myself today.\" |\n",
    "\n",
    "**Main question:**  \n",
    "If a student is more resilient, do they also report higher life satisfaction?\n"
   ]
  },
  {
   "cell_type": "markdown",
   "id": "a61e6347",
   "metadata": {},
   "source": [
    "#### Quick look at the raw numbers"
   ]
  },
  {
   "cell_type": "code",
   "execution_count": 1,
   "id": "dc4678ad",
   "metadata": {
    "scrolled": true
   },
   "outputs": [
    {
     "data": {
      "text/html": [
       "<div>\n",
       "<style scoped>\n",
       "    .dataframe tbody tr th:only-of-type {\n",
       "        vertical-align: middle;\n",
       "    }\n",
       "\n",
       "    .dataframe tbody tr th {\n",
       "        vertical-align: top;\n",
       "    }\n",
       "\n",
       "    .dataframe thead th {\n",
       "        text-align: right;\n",
       "    }\n",
       "</style>\n",
       "<table border=\"1\" class=\"dataframe\">\n",
       "  <thead>\n",
       "    <tr style=\"text-align: right;\">\n",
       "      <th></th>\n",
       "      <th>life_sat</th>\n",
       "      <th>resilient</th>\n",
       "      <th>energy</th>\n",
       "      <th>happiness</th>\n",
       "      <th>hopeful</th>\n",
       "      <th>self_esteem</th>\n",
       "    </tr>\n",
       "  </thead>\n",
       "  <tbody>\n",
       "    <tr>\n",
       "      <th>0</th>\n",
       "      <td>1.0</td>\n",
       "      <td>5.0</td>\n",
       "      <td>2.0</td>\n",
       "      <td>2.0</td>\n",
       "      <td>2.0</td>\n",
       "      <td>2.0</td>\n",
       "    </tr>\n",
       "    <tr>\n",
       "      <th>1</th>\n",
       "      <td>2.0</td>\n",
       "      <td>5.0</td>\n",
       "      <td>2.0</td>\n",
       "      <td>2.0</td>\n",
       "      <td>2.0</td>\n",
       "      <td>2.0</td>\n",
       "    </tr>\n",
       "    <tr>\n",
       "      <th>2</th>\n",
       "      <td>2.0</td>\n",
       "      <td>5.0</td>\n",
       "      <td>2.0</td>\n",
       "      <td>2.0</td>\n",
       "      <td>4.0</td>\n",
       "      <td>1.0</td>\n",
       "    </tr>\n",
       "    <tr>\n",
       "      <th>3</th>\n",
       "      <td>3.0</td>\n",
       "      <td>4.0</td>\n",
       "      <td>3.0</td>\n",
       "      <td>2.0</td>\n",
       "      <td>3.0</td>\n",
       "      <td>3.0</td>\n",
       "    </tr>\n",
       "    <tr>\n",
       "      <th>4</th>\n",
       "      <td>1.0</td>\n",
       "      <td>5.0</td>\n",
       "      <td>1.0</td>\n",
       "      <td>1.0</td>\n",
       "      <td>1.0</td>\n",
       "      <td>1.0</td>\n",
       "    </tr>\n",
       "    <tr>\n",
       "      <th>5</th>\n",
       "      <td>4.0</td>\n",
       "      <td>5.0</td>\n",
       "      <td>3.0</td>\n",
       "      <td>4.0</td>\n",
       "      <td>4.0</td>\n",
       "      <td>4.0</td>\n",
       "    </tr>\n",
       "    <tr>\n",
       "      <th>6</th>\n",
       "      <td>3.0</td>\n",
       "      <td>4.0</td>\n",
       "      <td>2.0</td>\n",
       "      <td>4.0</td>\n",
       "      <td>4.0</td>\n",
       "      <td>3.0</td>\n",
       "    </tr>\n",
       "    <tr>\n",
       "      <th>7</th>\n",
       "      <td>2.0</td>\n",
       "      <td>2.0</td>\n",
       "      <td>2.0</td>\n",
       "      <td>2.0</td>\n",
       "      <td>2.0</td>\n",
       "      <td>2.0</td>\n",
       "    </tr>\n",
       "    <tr>\n",
       "      <th>8</th>\n",
       "      <td>2.0</td>\n",
       "      <td>4.0</td>\n",
       "      <td>2.0</td>\n",
       "      <td>2.0</td>\n",
       "      <td>2.0</td>\n",
       "      <td>2.0</td>\n",
       "    </tr>\n",
       "    <tr>\n",
       "      <th>9</th>\n",
       "      <td>3.0</td>\n",
       "      <td>5.0</td>\n",
       "      <td>2.0</td>\n",
       "      <td>3.0</td>\n",
       "      <td>3.0</td>\n",
       "      <td>4.0</td>\n",
       "    </tr>\n",
       "  </tbody>\n",
       "</table>\n",
       "</div>"
      ],
      "text/plain": [
       "   life_sat  resilient  energy  happiness  hopeful  self_esteem\n",
       "0       1.0        5.0     2.0        2.0      2.0          2.0\n",
       "1       2.0        5.0     2.0        2.0      2.0          2.0\n",
       "2       2.0        5.0     2.0        2.0      4.0          1.0\n",
       "3       3.0        4.0     3.0        2.0      3.0          3.0\n",
       "4       1.0        5.0     1.0        1.0      1.0          1.0\n",
       "5       4.0        5.0     3.0        4.0      4.0          4.0\n",
       "6       3.0        4.0     2.0        4.0      4.0          3.0\n",
       "7       2.0        2.0     2.0        2.0      2.0          2.0\n",
       "8       2.0        4.0     2.0        2.0      2.0          2.0\n",
       "9       3.0        5.0     2.0        3.0      3.0          4.0"
      ]
     },
     "execution_count": 1,
     "metadata": {},
     "output_type": "execute_result"
    }
   ],
   "source": [
    "import pandas as pd\n",
    "df = pd.read_csv('final_project_data.csv')[['life_sat','resilient','energy','happiness','hopeful','self_esteem']]\n",
    "df.head(10)"
   ]
  },
  {
   "cell_type": "markdown",
   "id": "1f00239a",
   "metadata": {},
   "source": [
    "\n",
    "### 2 — Cleaning the data\n",
    "\n",
    "* Empty strings were turned into **NaN** (Python's \"missing value\").  \n",
    "* Between **9%** and **14%** of answers are missing, depending on the question.\n",
    "\n",
    "**Why I chose *median* imputation**\n",
    "\n",
    "* The ratings are on a 1‑to‑5 scale and most students pick 4's.  \n",
    "* Filling blanks with the *mean* would pull the data upward because of a few 5's.  \n",
    "* Filling with the *mode* would turn many answers into 4's and hide real variety.  \n",
    "* Keeping rows with missing values would throw away up to 14% of students.\n",
    "\n",
    "Using the median keeps the \"middle\" answer and leaves the overall shape of the data almost the same.\n"
   ]
  },
  {
   "cell_type": "code",
   "execution_count": 2,
   "id": "58c59667",
   "metadata": {},
   "outputs": [
    {
     "data": {
      "text/plain": [
       "life_sat       14.0\n",
       "resilient       9.4\n",
       "energy         14.0\n",
       "happiness      14.0\n",
       "hopeful        13.9\n",
       "self_esteem    14.2\n",
       "dtype: float64"
      ]
     },
     "execution_count": 2,
     "metadata": {},
     "output_type": "execute_result"
    }
   ],
   "source": [
    "missing_pct = (df.isna().mean()*100).round(1)\n",
    "missing_pct"
   ]
  },
  {
   "cell_type": "markdown",
   "id": "b33d751a",
   "metadata": {},
   "source": [
    "### 3 — What do the numbers look like?"
   ]
  },
  {
   "cell_type": "code",
   "execution_count": 3,
   "id": "c05b76e4",
   "metadata": {},
   "outputs": [
    {
     "data": {
      "text/html": [
       "<iframe\n",
       "    scrolling=\"no\"\n",
       "    width=\"100%\"\n",
       "    height=\"545px\"\n",
       "    src=\"iframe_figures/figure_3.html\"\n",
       "    frameborder=\"0\"\n",
       "    allowfullscreen\n",
       "></iframe>\n"
      ]
     },
     "metadata": {},
     "output_type": "display_data"
    }
   ],
   "source": [
    "import plotly.express as px, plotly.io as pio, numpy as np\n",
    "pio.renderers.default = \"iframe_connected\"\n",
    "fig_hist = px.histogram(df, x='life_sat', nbins=7,\n",
    "                        title='How students rated their life satisfaction (1 = low, 5 = high)',\n",
    "                        labels={'life_sat':'life_sat'})\n",
    "fig_hist"
   ]
  },
  {
   "cell_type": "markdown",
   "id": "34484e80",
   "metadata": {},
   "source": [
    "*Most students choose 4. Scores of 1 or 2 are rare, so predicting very low satisfaction may be tough.*"
   ]
  },
  {
   "cell_type": "code",
   "execution_count": 4,
   "id": "d80fd44e",
   "metadata": {},
   "outputs": [
    {
     "data": {
      "text/html": [
       "<iframe\n",
       "    scrolling=\"no\"\n",
       "    width=\"100%\"\n",
       "    height=\"545px\"\n",
       "    src=\"iframe_figures/figure_4.html\"\n",
       "    frameborder=\"0\"\n",
       "    allowfullscreen\n",
       "></iframe>\n"
      ]
     },
     "metadata": {},
     "output_type": "display_data"
    }
   ],
   "source": [
    "mask = df['resilient'].notna() & df['life_sat'].notna()\n",
    "fig_scatter = px.scatter(df[mask], x='resilient', y='life_sat',\n",
    "                         trendline='ols',\n",
    "                         title='Do more resilient students feel more satisfied?',\n",
    "                         labels={'resilient':'resilient','life_sat':'life_sat'},\n",
    "                         opacity=0.6)\n",
    "fig_scatter"
   ]
  },
  {
   "cell_type": "markdown",
   "id": "b293d6b1",
   "metadata": {},
   "source": [
    "*The upward sloping line says **yes**: on average, a 1‑point jump in resilience lines up with about a 0.16‑point jump in life satisfaction.*"
   ]
  },
  {
   "cell_type": "code",
   "execution_count": 5,
   "id": "8b679f8e",
   "metadata": {},
   "outputs": [
    {
     "data": {
      "text/html": [
       "<div>\n",
       "<style scoped>\n",
       "    .dataframe tbody tr th:only-of-type {\n",
       "        vertical-align: middle;\n",
       "    }\n",
       "\n",
       "    .dataframe tbody tr th {\n",
       "        vertical-align: top;\n",
       "    }\n",
       "\n",
       "    .dataframe thead th {\n",
       "        text-align: right;\n",
       "    }\n",
       "</style>\n",
       "<table border=\"1\" class=\"dataframe\">\n",
       "  <thead>\n",
       "    <tr style=\"text-align: right;\">\n",
       "      <th></th>\n",
       "      <th>mean</th>\n",
       "      <th>count</th>\n",
       "    </tr>\n",
       "    <tr>\n",
       "      <th>resilience_group</th>\n",
       "      <th></th>\n",
       "      <th></th>\n",
       "    </tr>\n",
       "  </thead>\n",
       "  <tbody>\n",
       "    <tr>\n",
       "      <th>Low</th>\n",
       "      <td>2.71</td>\n",
       "      <td>227</td>\n",
       "    </tr>\n",
       "    <tr>\n",
       "      <th>Medium</th>\n",
       "      <td>2.73</td>\n",
       "      <td>211</td>\n",
       "    </tr>\n",
       "    <tr>\n",
       "      <th>High</th>\n",
       "      <td>2.86</td>\n",
       "      <td>218</td>\n",
       "    </tr>\n",
       "  </tbody>\n",
       "</table>\n",
       "</div>"
      ],
      "text/plain": [
       "                  mean  count\n",
       "resilience_group             \n",
       "Low               2.71    227\n",
       "Medium            2.73    211\n",
       "High              2.86    218"
      ]
     },
     "execution_count": 5,
     "metadata": {},
     "output_type": "execute_result"
    }
   ],
   "source": [
    "df['resilience_group'] = pd.qcut(df['resilient'].rank(method='first'), 3,\n",
    "                                 labels=['Low','Medium','High'])\n",
    "agg = df.groupby('resilience_group', observed=False)['life_sat'].agg(['mean','count']).round(2)\n",
    "agg"
   ]
  },
  {
   "cell_type": "markdown",
   "id": "bea293f2",
   "metadata": {},
   "source": [
    "*Students in the **High** resilience group average the highest life‑satisfaction, confirming the trend.*"
   ]
  },
  {
   "cell_type": "markdown",
   "id": "b2f1208a",
   "metadata": {},
   "source": [
    "\n",
    "### 4 — Turning the question into a prediction task\n",
    "\n",
    "I treat **life_sat** as a number to predict (*regression*).\n",
    "\n",
    "* **Baseline model** – uses only **resilient** and **energy**.  \n",
    "* **Final model** – adds the other four \"mood\" questions **plus** an interaction term and an average mood score.\n",
    "\n",
    "**Why Ridge Regression?**  \n",
    "Think of Ridge as ordinary linear regression with a \"seat‑belt\" that keeps the coefficients from swinging wildly when the inputs are correlated (and they are!). One knob, called **alpha (α)**, tightens or loosens the belt; I pick the best α with cross‑validation (try a few values, keep the one that predicts best on unseen data).\n",
    "\n",
    "**Metric** – *Root Mean Squared Error (RMSE)*. In the same 1‑to‑5 units, how far off my predictions are on average. I report RMSE rather than MSE because RMSE has the same 1-to-5 units as the survey scores, so \"RMSE = 0.63\" literally means \"on average my prediction is off by about half a scale point.\" MSE squares the error, giving numbers in \"points²,\" which are less intuitive to interpret; RMSE keeps the same sensitivity to large errors but remains human-readable. "
   ]
  },
  {
   "cell_type": "markdown",
   "id": "ec265aba",
   "metadata": {},
   "source": [
    "\n",
    "### 5 — How well do the models do?\n",
    "\n",
    "| Model | RMSE (lower = better) | R² (higher = better) |\n",
    "|---|---|---|\n",
    "| Baseline | **0.82** | 0.18 |\n",
    "| Final Ridge | **0.63** | 0.52 |\n",
    "\n",
    "**Meaning**\n",
    "\n",
    "* The final model's guesses are off by **0.63 points** on average—about half a step on the 1‑to‑5 scale.  \n",
    "* It explains **52%** of the differences we see between students, almost three times better than the baseline.\n"
   ]
  },
  {
   "cell_type": "markdown",
   "id": "f9af7876",
   "metadata": {},
   "source": [
    "\n",
    "#### Quick residual check\n",
    "\n",
    "Plotting prediction errors (not shown here) shows no strong pattern: the line of best fit stays flat and the dots spread out evenly. That means a straight‑line model is good enough for now.\n"
   ]
  },
  {
   "cell_type": "markdown",
   "id": "0c2ef296",
   "metadata": {},
   "source": [
    "\n",
    "### 6 — Results?\n",
    "\n",
    "1. **Resilient students really do feel better.** Boosting resilience by 1 point is linked to a ~0.16‑point rise in life satisfaction.  \n",
    "2. **Daily mood matters too.** Adding simple \"I feel happy/energetic/hopeful\" questions nearly halves prediction error.  \n",
    "\n",
    "*Next steps:* Collect new data over the semester to see how these relationships change over time.\n"
   ]
  }
 ],
 "metadata": {
  "kernelspec": {
   "display_name": "Python 3 (ipykernel)",
   "language": "python",
   "name": "python3"
  },
  "language_info": {
   "codemirror_mode": {
    "name": "ipython",
    "version": 3
   },
   "file_extension": ".py",
   "mimetype": "text/x-python",
   "name": "python",
   "nbconvert_exporter": "python",
   "pygments_lexer": "ipython3",
   "version": "3.10.16"
  }
 },
 "nbformat": 4,
 "nbformat_minor": 5
}
